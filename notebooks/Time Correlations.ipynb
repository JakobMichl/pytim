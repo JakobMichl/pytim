{
 "cells": [
  {
   "cell_type": "code",
   "execution_count": 2,
   "metadata": {},
   "outputs": [],
   "source": [
    "%matplotlib inline\n",
    "import pytim\n",
    "import MDAnalysis as mda\n",
    "import numpy as np\n",
    "from pytim.datafiles import pytim_data, WATERSMALL_GRO\n",
    "from pytim.utilities import lap\n",
    "from pytim.observables import Correlator, Velocity\n",
    "from matplotlib import pyplot as plt\n",
    "#import deepdiff\n",
    "from pytim import utilities\n"
   ]
  },
  {
   "cell_type": "code",
   "execution_count": 3,
   "metadata": {},
   "outputs": [
    {
     "name": "stdout",
     "output_type": "stream",
     "text": [
      "/tmp/WATERSMALL.LONG.TRR\n"
     ]
    }
   ],
   "source": [
    "#WATERSMALL_TRR=pytim_data.fetch('WATERSMALL_LONG_TRR')\n",
    "WATERSMALL_TRR ='/tmp/WATERSMALL.LONG.TRR'\n",
    "print WATERSMALL_TRR"
   ]
  },
  {
   "cell_type": "code",
   "execution_count": 6,
   "metadata": {},
   "outputs": [
    {
     "name": "stdout",
     "output_type": "stream",
     "text": [
      "\n"
     ]
    }
   ],
   "source": [
    "u = mda.Universe(WATERSMALL_GRO,WATERSMALL_TRR)\n",
    "g = u.select_atoms('name OW ')\n",
    "inter = pytim.ITIM(u,group=g,molecular=False)"
   ]
  },
  {
   "cell_type": "code",
   "execution_count": 7,
   "metadata": {},
   "outputs": [
    {
     "name": "stdout",
     "output_type": "stream",
     "text": [
      "10 20 30 40 50 60 70 80 90 100 110 120 130 140 150 160 170 180 190 200 210 220 230 240 250 260 270 280 290 300 310 320 330 340 350 360 370 380 390 400 410 420 430 440 450 460 470 480 490 500 510 520 530 540 550 560 570 580 590 600 610 620 630 640 650 660 670 680 690 700 710 720 730 740 750 760 770 780 790 800 810 820 830 840 850 860 870 880 890 900 910 920 930 940 950 960 970 980 990 1000 1010 1020 1030 1040 1050 1060 1070 1080 1090 1100 1110 1120 1130 1140 1150 1160 1170 1180 1190 1200 1210 1220 1230 1240 1250 1260 1270 1280 1290 1300 1310 1320 1330 1340 1350 1360 1370 1380 1390 1400 1410 1420 1430 1440 1450 1460 1470 1480 1490 1500 1510 1520 1530 1540 1550 1560 1570 1580 1590 1600 1610 1620 1630 1640 1650 1660 1670 1680 1690 1700 1710 1720 1730 1740 1750 1760 1770 1780 1790 1800 1810 1820 1830 1840 1850 1860 1870 1880 1890 1900 1910 1920 1930 1940 1950 1960 1970 1980 1990 2000 2010 2020 2030 2040 2050 2060 2070 2080 2090 2100 2110 2120 2130 2140 2150 2160 2170 2180 2190 2200 2210 2220 2230 2240 2250 2260 2270 2280 2290 2300 2310 2320 2330 2340 2350 2360 2370 2380 2390 2400 2410 2420 2430 2440 2450 2460 2470 2480 2490 2500 2510 2520 2530 2540 2550 2560 2570 2580 2590 2600 2610 2620 2630 2640 2650 2660 2670 2680 2690 2700 2710 2720 2730 2740 2750 2760 2770 2780 2790 2800 2810 2820 2830 2840 2850 2860 2870 2880 2890 2900 2910 2920 2930 2940 2950 2960 2970 2980 2990 3000 3010 3020 3030 3040 3050 3060 3070 3080 3090 3100 3110 3120 3130 3140 3150 3160 3170 3180 3190 3200 3210 3220 3230 3240 3250 3260 3270 3280 3290 3300 3310 3320 3330 3340 3350 3360 3370 3380 3390 3400 3410 3420 3430 3440 3450 3460 3470 3480 3490 3500 3510 3520 3530 3540 3550 3560 3570 3580 3590 3600 3610 3620 3630 3640 3650 3660 3670 3680 3690 3700 3710 3720 3730 3740 3750 3760 3770 3780 3790 3800 3810 3820 3830 3840 3850 3860 3870 3880 3890 3900 3910 3920 3930 3940 3950 3960 3970 3980 3990\n"
     ]
    }
   ],
   "source": [
    "total_vv = Correlator(observable=Velocity())\n",
    "\n",
    "layer_vv = Correlator(observable=Velocity('xy'), reference=g)\n",
    "layer_nn = Correlator(reference=g)\n",
    "\n",
    "for t in u.trajectory[1:4000]:\n",
    "    if t.frame % 10 == 0:\n",
    "        print t.frame,\n",
    "    total_vv.sample(g)\n",
    "   # print repr(inter.atoms)\n",
    "    layer_vv.sample(inter.atoms)\n",
    "    layer_nn.sample(inter.atoms)"
   ]
  },
  {
   "cell_type": "code",
   "execution_count": 8,
   "metadata": {
    "scrolled": false
   },
   "outputs": [],
   "source": [
    "vacf_total = total_vv.correlation()\n",
    "vacf_layer = layer_vv.correlation(reentrant=False)\n",
    "reen_layer = layer_vv.correlation(reentrant=True)\n",
    "survival = layer_nn.correlation()"
   ]
  },
  {
   "cell_type": "code",
   "execution_count": 11,
   "metadata": {},
   "outputs": [
    {
     "data": {
      "image/png": "[encoded data removed]",
      "text/plain": [
       "<matplotlib.figure.Figure at 0x1146c9a50>"
      ]
     },
     "metadata": {},
     "output_type": "display_data"
    }
   ],
   "source": [
    "lim = 500\n",
    "plt.plot(vacf_total[:lim],label='total')\n",
    "plt.plot(vacf_layer[:lim],'-',label='layer')\n",
    "plt.plot(reen_layer[:lim],'-',label='layer')\n",
    "\n",
    "plt.plot(survival[:lim],label='surv')\n",
    "plt.legend()\n",
    "plt.show()"
   ]
  },
  {
   "cell_type": "code",
   "execution_count": null,
   "metadata": {
    "collapsed": true
   },
   "outputs": [],
   "source": [
    "print total_vv.timeseries"
   ]
  },
  {
   "cell_type": "code",
   "execution_count": null,
   "metadata": {},
   "outputs": [],
   "source": [
    "print len([])"
   ]
  },
  {
   "cell_type": "code",
   "execution_count": null,
   "metadata": {
    "collapsed": true
   },
   "outputs": [],
   "source": []
  },
  {
   "cell_type": "code",
   "execution_count": 1,
   "metadata": {},
   "outputs": [],
   "source": [
    "%matplotlib inline\n",
    "import pytim\n",
    "import MDAnalysis as mda\n",
    "import numpy as np\n",
    "from pytim.datafiles import pytim_data, WATERSMALL_GRO\n",
    "from pytim.utilities import lap\n",
    "from pytim.observables import Correlator, Velocity\n",
    "from matplotlib import pyplot as plt\n",
    "#import deepdiff\n",
    "from pytim import utilities\n",
    "WATERSMALL_TRR ='/tmp/WATERSMALL.LONG.TRR'\n",
    "u = mda.Universe(WATERSMALL_GRO,WATERSMALL_TRR)\n",
    "g = u.select_atoms('name OW ')[:2]\n",
    "vv = Correlator(observable=Velocity(), reference=g)\n",
    "nn = Correlator(reference=g)\n"
   ]
  },
  {
   "cell_type": "code",
   "execution_count": 2,
   "metadata": {
    "collapsed": true
   },
   "outputs": [],
   "source": [
    "u.atoms.velocities = u.atoms.velocities * 0 + np.array([1.,1.,1.])\n",
    "vv.sample(g)\n",
    "nn.sample(g)"
   ]
  },
  {
   "cell_type": "code",
   "execution_count": 3,
   "metadata": {
    "collapsed": true
   },
   "outputs": [],
   "source": [
    "u.atoms.velocities = u.atoms.velocities * 0 + np.array([1.0,1.0,1.0])\n",
    "vv.sample(g[0:1])\n",
    "nn.sample(g[0:1])"
   ]
  },
  {
   "cell_type": "code",
   "execution_count": 4,
   "metadata": {},
   "outputs": [
    {
     "name": "stdout",
     "output_type": "stream",
     "text": [
      "[[1.0, 1.0, 1.0, 1.0, 1.0, 1.0], [1.0, 1.0, 1.0, -0.0, 0.0, -0.0], [1.0, 1.0, 1.0, 1.0, 1.0, 1.0], [1.0, 1.0, 1.0, 1.0, 1.0, 1.0], [1.0, 1.0, 1.0, -0.0, 0.0, -0.0]]\n",
      "[[True, True], [True, False], [True, True], [True, True], [True, False]]\n"
     ]
    }
   ],
   "source": [
    "u.atoms.velocities = u.atoms.velocities * 0 + np.array([1.,1.,1.])\n",
    "vv.sample(g)\n",
    "nn.sample(g)\n",
    "vv.sample(g)\n",
    "nn.sample(g)\n",
    "u.atoms.velocities = u.atoms.velocities * 0 + np.array([1.0,1.0,1.0])\n",
    "vv.sample(g[0:1])\n",
    "nn.sample(g[0:1])\n",
    "print vv.timeseries\n",
    "print vv.maskseries"
   ]
  },
  {
   "cell_type": "code",
   "execution_count": 5,
   "metadata": {
    "scrolled": false
   },
   "outputs": [
    {
     "name": "stdout",
     "output_type": "stream",
     "text": [
      "[[ 1.  1.  1.  1.  1.  1.]\n",
      " [ 1.  1.  1. -0.  0. -0.]\n",
      " [ 1.  1.  1.  1.  1.  1.]\n",
      " [ 1.  1.  1.  1.  1.  1.]\n",
      " [ 1.  1.  1. -0.  0. -0.]]\n",
      "[[ True  True]\n",
      " [ True False]\n",
      " [ True  True]\n",
      " [ True  True]\n",
      " [ True False]]\n",
      "--- nonorm, nored reentrant:\n",
      "[[  1.   1.   1.   1.   1.   1.]\n",
      " [  1.   1.   1.   1.   1.   1.]\n",
      " [  1.   1.   1.   1.   1.   1.]\n",
      " [  1.   1.   1.   1.   1.   1.]\n",
      " [  1.   1.   1.  nan  nan  nan]]\n",
      "--- nonorm, red reentrant:\n",
      "[ 1.  1.  1.  1.  1.]\n",
      "== - NONREENTRANT - ==\n",
      "--- nonorm, nored:\n",
      "[[  1.   1.   1.   1.   1.   1.]\n",
      " [  1.   1.   1.   1.   1.   1.]\n",
      " [  1.   1.   1.  nan  nan  nan]\n",
      " [  1.   1.   1.  nan  nan  nan]\n",
      " [  1.   1.   1.  nan  nan  nan]]\n",
      "--- nonorm, red:\n",
      "[ 1.  1.  1.  1.  1.]\n",
      "--- norm, red:\n",
      "[ 1.  1.  1.  1.  1.]\n",
      "\n",
      "\n",
      "::::, norm , red\n",
      "[ 1.          0.78125     0.83333333  0.9375      0.625     ]\n",
      "::: nonorm, red\n",
      "[ 0.8         0.625       0.66666667  0.75        0.5       ]\n",
      "::: norm, nonred\n",
      "[[  1.00000000e+00   1.00000000e+00]\n",
      " [  1.00000000e+00   4.16666667e-01]\n",
      " [  1.00000000e+00   5.55555556e-01]\n",
      " [  1.00000000e+00   8.33333333e-01]\n",
      " [  1.00000000e+00   1.73934941e-15]]\n",
      "::: nonorm, nored\n",
      "[[  1.00000000e+00   6.00000000e-01]\n",
      " [  1.00000000e+00   2.50000000e-01]\n",
      " [  1.00000000e+00   3.33333333e-01]\n",
      " [  1.00000000e+00   5.00000000e-01]\n",
      " [  1.00000000e+00   1.04360964e-15]]\n",
      "::: timeseries\n",
      "[[1.0, 1.0], [1.0, 0.0], [1.0, 1.0], [1.0, 1.0], [1.0, 0.0]]\n"
     ]
    }
   ],
   "source": [
    "print np.asarray(vv.timeseries)\n",
    "print np.asarray(vv.maskseries)\n",
    "print \"--- nonorm, nored reentrant:\"\n",
    "print vv.correlation(normalized=False,reduced=False,reentrant=True)\n",
    "print \"--- nonorm, red reentrant:\"\n",
    "print vv.correlation(normalized=False,reduced=True,reentrant=True)\n",
    "\n",
    "print \"== - NONREENTRANT - ==\"\n",
    "print \"--- nonorm, nored:\"\n",
    "print vv.correlation(normalized=False,reduced=False)\n",
    "print \"--- nonorm, red:\"\n",
    "print vv.correlation(normalized=False,reduced=True)\n",
    "print \"--- norm, red:\"\n",
    "print vv.correlation(normalized=True,reduced=True)\n",
    "print \"\\n\"\n",
    "#print np.asarray(nn.timeseries).reshape(4,2)\n",
    "print \"::::, norm , red\"\n",
    "print nn.correlation(normalized=True,reduced=True)\n",
    "print \"::: nonorm, red\"\n",
    "print nn.correlation(normalized=False,reduced=True)\n",
    "print \"::: norm, nonred\"\n",
    "print nn.correlation(normalized=True,reduced=False)\n",
    "print \"::: nonorm, nored\"\n",
    "print nn.correlation(normalized=False,reduced=False)\n",
    "print \"::: timeseries\" \n",
    "print nn.timeseries"
   ]
  },
  {
   "cell_type": "code",
   "execution_count": 6,
   "metadata": {},
   "outputs": [
    {
     "data": {
      "text/plain": [
       "array([ True, False, False], dtype=bool)"
      ]
     },
     "execution_count": 6,
     "metadata": {},
     "output_type": "execute_result"
    }
   ],
   "source": [
    "a=np.array([1,0.,1e-16])\n",
    "~np.isclose(a,0.)"
   ]
  },
  {
   "cell_type": "code",
   "execution_count": null,
   "metadata": {},
   "outputs": [],
   "source": [
    "print [[not i and i  for i in vv.maskseries[0]]] + vv.maskseries\n"
   ]
  },
  {
   "cell_type": "code",
   "execution_count": null,
   "metadata": {},
   "outputs": [],
   "source": [
    "falses = [[not i and i  for i in vv.maskseries[0]]]\n",
    "ms=np.asarray(falses+vv.maskseries+falses)\n",
    "unfolded = []\n",
    "for part in range(len(ms[0])):\n",
    "    mstmp = ms[::,part]\n",
    "    change = np.where(mstmp[:-1] != mstmp[1:])[0]+1\n",
    "    unfolded.append([])\n",
    "    for i in range(0,len(change)-1,2):\n",
    "        tmp = mstmp*False\n",
    "        tmp [change[i]:change[i+1]]=True\n",
    "        unfolded[-1].append(pytim.utilities.correlate(tmp[1:-1]))\n",
    "\n",
    "print \"===\"\n",
    "print unfolded\n",
    "\n",
    "print vv.timeseries\n",
    "print vv.corr"
   ]
  },
  {
   "cell_type": "code",
   "execution_count": null,
   "metadata": {},
   "outputs": [],
   "source": [
    "a=[[1,2],[2,3],[3,4]]\n",
    "print list(np.asarray(a[0])*0)+a\n",
    "#print list(np.asarray(a))"
   ]
  },
  {
   "cell_type": "code",
   "execution_count": null,
   "metadata": {},
   "outputs": [],
   "source": [
    "range(0,5,2)"
   ]
  },
  {
   "cell_type": "code",
   "execution_count": null,
   "metadata": {
    "collapsed": true
   },
   "outputs": [],
   "source": []
  }
 ],
 "metadata": {
  "kernelspec": {
   "display_name": "Python 2",
   "language": "python",
   "name": "python2"
  },
  "language_info": {
   "codemirror_mode": {
    "name": "ipython",
    "version": 2
   },
   "file_extension": ".py",
   "mimetype": "text/x-python",
   "name": "python",
   "nbconvert_exporter": "python",
   "pygments_lexer": "ipython2",
   "version": "2.7.10"
  }
 },
 "nbformat": 4,
 "nbformat_minor": 2
}
